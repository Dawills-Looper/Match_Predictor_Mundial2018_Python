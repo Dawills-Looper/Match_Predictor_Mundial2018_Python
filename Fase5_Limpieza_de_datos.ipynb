{
 "cells": [
  {
   "cell_type": "code",
   "execution_count": 7,
   "id": "847202b0",
   "metadata": {},
   "outputs": [],
   "source": [
    "import pandas as pd"
   ]
  },
  {
   "cell_type": "markdown",
   "id": "b97aa2fc",
   "metadata": {},
   "source": [
    "# Data Cleaning"
   ]
  },
  {
   "cell_type": "code",
   "execution_count": 8,
   "id": "16291610",
   "metadata": {},
   "outputs": [],
   "source": [
    "df_historical_data = pd.read_csv('fifa_worldcup_historical_data.csv')\n",
    "df_fixture = pd.read_csv('fifa_worldcup_fixture.csv')\n",
    "df_missing_data = pd.read_csv('fifa_worldcup_missing_data.csv')"
   ]
  },
  {
   "cell_type": "markdown",
   "id": "48cefebb",
   "metadata": {},
   "source": [
    "## Cleaning df_fixture"
   ]
  },
  {
   "cell_type": "code",
   "execution_count": 9,
   "id": "58a4b211",
   "metadata": {},
   "outputs": [],
   "source": [
    "df_fixture['home'] = df_fixture['home'].str.strip()\n",
    "df_fixture['away'] = df_fixture['away'].str.strip()"
   ]
  },
  {
   "cell_type": "markdown",
   "id": "fb97fffe",
   "metadata": {},
   "source": [
    "## Cleaning df_missing_data and adding it to df_historical_data"
   ]
  },
  {
   "cell_type": "code",
   "execution_count": 10,
   "id": "74bb9632",
   "metadata": {
    "scrolled": false
   },
   "outputs": [
    {
     "data": {
      "text/html": [
       "<div>\n",
       "<style scoped>\n",
       "    .dataframe tbody tr th:only-of-type {\n",
       "        vertical-align: middle;\n",
       "    }\n",
       "\n",
       "    .dataframe tbody tr th {\n",
       "        vertical-align: top;\n",
       "    }\n",
       "\n",
       "    .dataframe thead th {\n",
       "        text-align: right;\n",
       "    }\n",
       "</style>\n",
       "<table border=\"1\" class=\"dataframe\">\n",
       "  <thead>\n",
       "    <tr style=\"text-align: right;\">\n",
       "      <th></th>\n",
       "      <th>home</th>\n",
       "      <th>score</th>\n",
       "      <th>away</th>\n",
       "      <th>year</th>\n",
       "    </tr>\n",
       "  </thead>\n",
       "  <tbody>\n",
       "    <tr>\n",
       "      <th>0</th>\n",
       "      <td>France</td>\n",
       "      <td>0–1</td>\n",
       "      <td>Senegal</td>\n",
       "      <td>2002</td>\n",
       "    </tr>\n",
       "    <tr>\n",
       "      <th>34</th>\n",
       "      <td>Sweden</td>\n",
       "      <td>1–1</td>\n",
       "      <td>Argentina</td>\n",
       "      <td>2002</td>\n",
       "    </tr>\n",
       "    <tr>\n",
       "      <th>35</th>\n",
       "      <td>Nigeria</td>\n",
       "      <td>0–0</td>\n",
       "      <td>England</td>\n",
       "      <td>2002</td>\n",
       "    </tr>\n",
       "    <tr>\n",
       "      <th>36</th>\n",
       "      <td>Croatia</td>\n",
       "      <td>0–1</td>\n",
       "      <td>Mexico</td>\n",
       "      <td>2002</td>\n",
       "    </tr>\n",
       "    <tr>\n",
       "      <th>37</th>\n",
       "      <td>Italy</td>\n",
       "      <td>2–0</td>\n",
       "      <td>Ecuador</td>\n",
       "      <td>2002</td>\n",
       "    </tr>\n",
       "    <tr>\n",
       "      <th>...</th>\n",
       "      <td>...</td>\n",
       "      <td>...</td>\n",
       "      <td>...</td>\n",
       "      <td>...</td>\n",
       "    </tr>\n",
       "    <tr>\n",
       "      <th>282</th>\n",
       "      <td>Japan</td>\n",
       "      <td>0–1</td>\n",
       "      <td>Costa Rica</td>\n",
       "      <td>2022</td>\n",
       "    </tr>\n",
       "    <tr>\n",
       "      <th>283</th>\n",
       "      <td>Spain</td>\n",
       "      <td>1–1</td>\n",
       "      <td>Germany</td>\n",
       "      <td>2022</td>\n",
       "    </tr>\n",
       "    <tr>\n",
       "      <th>284</th>\n",
       "      <td>Japan</td>\n",
       "      <td>2–1</td>\n",
       "      <td>Spain</td>\n",
       "      <td>2022</td>\n",
       "    </tr>\n",
       "    <tr>\n",
       "      <th>286</th>\n",
       "      <td>Morocco</td>\n",
       "      <td>0–0</td>\n",
       "      <td>Croatia</td>\n",
       "      <td>2022</td>\n",
       "    </tr>\n",
       "    <tr>\n",
       "      <th>319</th>\n",
       "      <td>Argentina</td>\n",
       "      <td>3–3 (a.e.t.)</td>\n",
       "      <td>France</td>\n",
       "      <td>2022</td>\n",
       "    </tr>\n",
       "  </tbody>\n",
       "</table>\n",
       "<p>320 rows × 4 columns</p>\n",
       "</div>"
      ],
      "text/plain": [
       "           home         score         away  year\n",
       "0       France            0–1      Senegal  2002\n",
       "34      Sweden            1–1    Argentina  2002\n",
       "35     Nigeria            0–0      England  2002\n",
       "36     Croatia            0–1       Mexico  2002\n",
       "37       Italy            2–0      Ecuador  2002\n",
       "..          ...           ...          ...   ...\n",
       "282      Japan            0–1   Costa Rica  2022\n",
       "283      Spain            1–1      Germany  2022\n",
       "284      Japan            2–1        Spain  2022\n",
       "286    Morocco            0–0      Croatia  2022\n",
       "319  Argentina   3–3 (a.e.t.)       France  2022\n",
       "\n",
       "[320 rows x 4 columns]"
      ]
     },
     "execution_count": 10,
     "metadata": {},
     "output_type": "execute_result"
    }
   ],
   "source": [
    "# df_missing_data[df_missing_data['home'].isnull()]\n",
    "df_missing_data.dropna(inplace=True)\n",
    "df_historical_data = pd.concat([df_historical_data, df_missing_data], ignore_index=True)\n",
    "df_historical_data.drop_duplicates(inplace=True)\n",
    "df_historical_data.sort_values('year', inplace=True)\n",
    "df_historical_data"
   ]
  },
  {
   "cell_type": "markdown",
   "id": "f5fa40ce",
   "metadata": {},
   "source": [
    "## Cleaning df_historical_data"
   ]
  },
  {
   "cell_type": "code",
   "execution_count": 11,
   "id": "aed92600",
   "metadata": {},
   "outputs": [
    {
     "data": {
      "text/html": [
       "<div>\n",
       "<style scoped>\n",
       "    .dataframe tbody tr th:only-of-type {\n",
       "        vertical-align: middle;\n",
       "    }\n",
       "\n",
       "    .dataframe tbody tr th {\n",
       "        vertical-align: top;\n",
       "    }\n",
       "\n",
       "    .dataframe thead th {\n",
       "        text-align: right;\n",
       "    }\n",
       "</style>\n",
       "<table border=\"1\" class=\"dataframe\">\n",
       "  <thead>\n",
       "    <tr style=\"text-align: right;\">\n",
       "      <th></th>\n",
       "      <th>HomeTeam</th>\n",
       "      <th>AwayTeam</th>\n",
       "      <th>Year</th>\n",
       "      <th>HomeGoals</th>\n",
       "      <th>AwayGoals</th>\n",
       "      <th>TotalGoals</th>\n",
       "    </tr>\n",
       "  </thead>\n",
       "  <tbody>\n",
       "    <tr>\n",
       "      <th>0</th>\n",
       "      <td>France</td>\n",
       "      <td>Senegal</td>\n",
       "      <td>2002</td>\n",
       "      <td>0</td>\n",
       "      <td>1</td>\n",
       "      <td>1</td>\n",
       "    </tr>\n",
       "    <tr>\n",
       "      <th>34</th>\n",
       "      <td>Sweden</td>\n",
       "      <td>Argentina</td>\n",
       "      <td>2002</td>\n",
       "      <td>1</td>\n",
       "      <td>1</td>\n",
       "      <td>2</td>\n",
       "    </tr>\n",
       "    <tr>\n",
       "      <th>35</th>\n",
       "      <td>Nigeria</td>\n",
       "      <td>England</td>\n",
       "      <td>2002</td>\n",
       "      <td>0</td>\n",
       "      <td>0</td>\n",
       "      <td>0</td>\n",
       "    </tr>\n",
       "    <tr>\n",
       "      <th>36</th>\n",
       "      <td>Croatia</td>\n",
       "      <td>Mexico</td>\n",
       "      <td>2002</td>\n",
       "      <td>0</td>\n",
       "      <td>1</td>\n",
       "      <td>1</td>\n",
       "    </tr>\n",
       "    <tr>\n",
       "      <th>37</th>\n",
       "      <td>Italy</td>\n",
       "      <td>Ecuador</td>\n",
       "      <td>2002</td>\n",
       "      <td>2</td>\n",
       "      <td>0</td>\n",
       "      <td>2</td>\n",
       "    </tr>\n",
       "    <tr>\n",
       "      <th>...</th>\n",
       "      <td>...</td>\n",
       "      <td>...</td>\n",
       "      <td>...</td>\n",
       "      <td>...</td>\n",
       "      <td>...</td>\n",
       "      <td>...</td>\n",
       "    </tr>\n",
       "    <tr>\n",
       "      <th>282</th>\n",
       "      <td>Japan</td>\n",
       "      <td>Costa Rica</td>\n",
       "      <td>2022</td>\n",
       "      <td>0</td>\n",
       "      <td>1</td>\n",
       "      <td>1</td>\n",
       "    </tr>\n",
       "    <tr>\n",
       "      <th>283</th>\n",
       "      <td>Spain</td>\n",
       "      <td>Germany</td>\n",
       "      <td>2022</td>\n",
       "      <td>1</td>\n",
       "      <td>1</td>\n",
       "      <td>2</td>\n",
       "    </tr>\n",
       "    <tr>\n",
       "      <th>284</th>\n",
       "      <td>Japan</td>\n",
       "      <td>Spain</td>\n",
       "      <td>2022</td>\n",
       "      <td>2</td>\n",
       "      <td>1</td>\n",
       "      <td>3</td>\n",
       "    </tr>\n",
       "    <tr>\n",
       "      <th>286</th>\n",
       "      <td>Morocco</td>\n",
       "      <td>Croatia</td>\n",
       "      <td>2022</td>\n",
       "      <td>0</td>\n",
       "      <td>0</td>\n",
       "      <td>0</td>\n",
       "    </tr>\n",
       "    <tr>\n",
       "      <th>319</th>\n",
       "      <td>Argentina</td>\n",
       "      <td>France</td>\n",
       "      <td>2022</td>\n",
       "      <td>3</td>\n",
       "      <td>3</td>\n",
       "      <td>6</td>\n",
       "    </tr>\n",
       "  </tbody>\n",
       "</table>\n",
       "<p>320 rows × 6 columns</p>\n",
       "</div>"
      ],
      "text/plain": [
       "      HomeTeam    AwayTeam  Year  HomeGoals  AwayGoals  TotalGoals\n",
       "0       France     Senegal  2002          0          1           1\n",
       "34      Sweden   Argentina  2002          1          1           2\n",
       "35     Nigeria     England  2002          0          0           0\n",
       "36     Croatia      Mexico  2002          0          1           1\n",
       "37       Italy     Ecuador  2002          2          0           2\n",
       "..         ...         ...   ...        ...        ...         ...\n",
       "282      Japan  Costa Rica  2022          0          1           1\n",
       "283      Spain     Germany  2022          1          1           2\n",
       "284      Japan       Spain  2022          2          1           3\n",
       "286    Morocco     Croatia  2022          0          0           0\n",
       "319  Argentina      France  2022          3          3           6\n",
       "\n",
       "[320 rows x 6 columns]"
      ]
     },
     "execution_count": 11,
     "metadata": {},
     "output_type": "execute_result"
    }
   ],
   "source": [
    "# deleting match with walk over\n",
    "delete_index = df_historical_data[df_historical_data['home'].str.contains('Sweden') &\n",
    "                                  df_historical_data['away'].str.contains('Austria')].index\n",
    "\n",
    "df_historical_data.drop(index=delete_index, inplace=True)\n",
    "\n",
    "# cleanning score and home/away columns\n",
    "df_historical_data['score'] = df_historical_data['score'].str.replace('[^\\d–]', '', regex=True)\n",
    "df_historical_data['home'] = df_historical_data['home'].str.strip() # clean blank spaces: Yugoslavia twice\n",
    "df_historical_data['away'] = df_historical_data['away'].str.strip()\n",
    "\n",
    "# splitting score columns into home and away goals and dropping score column\n",
    "df_historical_data[['HomeGoals', 'AwayGoals']] = df_historical_data['score'].str.split('–', expand=True)\n",
    "df_historical_data.drop('score', axis=1, inplace=True)\n",
    "\n",
    "# renaming columns and changing data types\n",
    "df_historical_data.rename(columns={'home': 'HomeTeam', 'away': 'AwayTeam', \n",
    "                                   'year':'Year'}, inplace=True)\n",
    "df_historical_data = df_historical_data.astype({'HomeGoals': int, 'AwayGoals':int, 'Year': int})\n",
    "\n",
    "# creating new column \"totalgoals\"\n",
    "df_historical_data['TotalGoals'] = df_historical_data['HomeGoals'] + df_historical_data['AwayGoals']\n",
    "df_historical_data"
   ]
  },
  {
   "cell_type": "markdown",
   "id": "9a459f24",
   "metadata": {},
   "source": [
    "# Exporting clean dataframes"
   ]
  },
  {
   "cell_type": "code",
   "execution_count": 12,
   "id": "12a3d8aa",
   "metadata": {},
   "outputs": [],
   "source": [
    "df_historical_data.to_csv('clean_fifa_worldcup_matches.csv',index=False)\n",
    "df_fixture.to_csv('clean_fifa_worldcup_fixture.csv',index=False)"
   ]
  },
  {
   "cell_type": "markdown",
   "id": "3cc51370",
   "metadata": {},
   "source": [
    "# Extra verifications"
   ]
  },
  {
   "cell_type": "code",
   "execution_count": 13,
   "id": "f2b65b9f",
   "metadata": {},
   "outputs": [
    {
     "name": "stdout",
     "output_type": "stream",
     "text": [
      "2002 64\n",
      "2006 64\n",
      "2014 64\n",
      "2022 64\n"
     ]
    }
   ],
   "source": [
    "# verify number of matches per competition\n",
    "years = [2002, 2006, 2014, 2022]\n",
    "\n",
    "for year in years:\n",
    "    print(year, len(df_historical_data[df_historical_data['Year']==year]))"
   ]
  },
  {
   "cell_type": "code",
   "execution_count": 14,
   "id": "c389c265",
   "metadata": {},
   "outputs": [
    {
     "name": "stdout",
     "output_type": "stream",
     "text": [
      "   HomeTeam AwayTeam  Year  HomeGoals  AwayGoals  TotalGoals\n",
      "17   Turkey    China  2002          3          0           3\n",
      "       HomeTeam AwayTeam  Year  HomeGoals  AwayGoals  TotalGoals\n",
      "54        Japan   Turkey  2002          0          1           1\n",
      "59      Senegal   Turkey  2002          0          1           1\n",
      "61       Brazil   Turkey  2002          1          0           1\n",
      "62  South Korea   Turkey  2002          2          3           5\n",
      "12       Brazil   Turkey  2002          2          1           3\n",
      "15   Costa Rica   Turkey  2002          1          1           2\n"
     ]
    }
   ],
   "source": [
    "# verify data collected for a team\n",
    "print(df_historical_data[df_historical_data['HomeTeam'].str.contains('Turkey')])\n",
    "print(df_historical_data[df_historical_data['AwayTeam'].str.contains('Turkey')])"
   ]
  }
 ],
 "metadata": {
  "kernelspec": {
   "display_name": "Python 3",
   "language": "python",
   "name": "python3"
  },
  "language_info": {
   "codemirror_mode": {
    "name": "ipython",
    "version": 3
   },
   "file_extension": ".py",
   "mimetype": "text/x-python",
   "name": "python",
   "nbconvert_exporter": "python",
   "pygments_lexer": "ipython3",
   "version": "3.11.1 (tags/v3.11.1:a7a450f, Dec  6 2022, 19:58:39) [MSC v.1934 64 bit (AMD64)]"
  },
  "toc": {
   "base_numbering": 1,
   "nav_menu": {},
   "number_sections": true,
   "sideBar": true,
   "skip_h1_title": false,
   "title_cell": "Table of Contents",
   "title_sidebar": "Contents",
   "toc_cell": false,
   "toc_position": {},
   "toc_section_display": true,
   "toc_window_display": false
  },
  "vscode": {
   "interpreter": {
    "hash": "620b35c2d00f0ea5c812fa3d0997e645437f1e30787bf8d56e746564993c1a28"
   }
  }
 },
 "nbformat": 4,
 "nbformat_minor": 5
}
